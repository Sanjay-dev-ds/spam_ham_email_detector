{
  "nbformat": 4,
  "nbformat_minor": 0,
  "metadata": {
    "colab": {
      "provenance": []
    },
    "kernelspec": {
      "name": "python3",
      "display_name": "Python 3"
    },
    "language_info": {
      "name": "python"
    }
  },
  "cells": [
    {
      "cell_type": "code",
      "execution_count": null,
      "metadata": {
        "id": "1DBbLtDnZopF"
      },
      "outputs": [],
      "source": [
        "from sklearn.feature_extraction.text import CountVectorizer"
      ]
    },
    {
      "cell_type": "code",
      "source": [
        "import pandas as pd\n",
        "import numpy as np\n",
        "from sklearn.model_selection import train_test_split , GridSearchCV , KFold\n",
        "from sklearn.svm import SVC \n",
        "from sklearn.metrics import accuracy_score , classification_report , confusion_matrix\n",
        "import seaborn as sns\n",
        "import matplotlib.pyplot as plt\n",
        "import re\n",
        "import nltk\n",
        "from nltk.stem import PorterStemmer\n",
        "from sklearn import metrics \n"
      ],
      "metadata": {
        "id": "s-NrXwJ5c4o2"
      },
      "execution_count": null,
      "outputs": []
    },
    {
      "cell_type": "markdown",
      "source": [
        "***import spam.csv from github***"
      ],
      "metadata": {
        "id": "SVnWbeifaGE5"
      }
    },
    {
      "cell_type": "code",
      "source": [
        "df = pd.read_csv(\"https://raw.githubusercontent.com/Sanjay-dev-ds/spam_ham_email_detector/master/spam.csv\")\n",
        "df.head()"
      ],
      "metadata": {
        "id": "n37vqoxgdR2G",
        "colab": {
          "base_uri": "https://localhost:8080/",
          "height": 206
        },
        "outputId": "a4fa4a26-4f99-45bf-9cf1-efb731db9e8c"
      },
      "execution_count": null,
      "outputs": [
        {
          "output_type": "execute_result",
          "data": {
            "text/plain": [
              "  Label                                          EmailText\n",
              "0   ham  Go until jurong point, crazy.. Available only ...\n",
              "1   ham                      Ok lar... Joking wif u oni...\n",
              "2  spam  Free entry in 2 a wkly comp to win FA Cup fina...\n",
              "3   ham  U dun say so early hor... U c already then say...\n",
              "4   ham  Nah I don't think he goes to usf, he lives aro..."
            ],
            "text/html": [
              "\n",
              "  <div id=\"df-967af4d1-1a0d-4f95-8480-562189985f1d\">\n",
              "    <div class=\"colab-df-container\">\n",
              "      <div>\n",
              "<style scoped>\n",
              "    .dataframe tbody tr th:only-of-type {\n",
              "        vertical-align: middle;\n",
              "    }\n",
              "\n",
              "    .dataframe tbody tr th {\n",
              "        vertical-align: top;\n",
              "    }\n",
              "\n",
              "    .dataframe thead th {\n",
              "        text-align: right;\n",
              "    }\n",
              "</style>\n",
              "<table border=\"1\" class=\"dataframe\">\n",
              "  <thead>\n",
              "    <tr style=\"text-align: right;\">\n",
              "      <th></th>\n",
              "      <th>Label</th>\n",
              "      <th>EmailText</th>\n",
              "    </tr>\n",
              "  </thead>\n",
              "  <tbody>\n",
              "    <tr>\n",
              "      <th>0</th>\n",
              "      <td>ham</td>\n",
              "      <td>Go until jurong point, crazy.. Available only ...</td>\n",
              "    </tr>\n",
              "    <tr>\n",
              "      <th>1</th>\n",
              "      <td>ham</td>\n",
              "      <td>Ok lar... Joking wif u oni...</td>\n",
              "    </tr>\n",
              "    <tr>\n",
              "      <th>2</th>\n",
              "      <td>spam</td>\n",
              "      <td>Free entry in 2 a wkly comp to win FA Cup fina...</td>\n",
              "    </tr>\n",
              "    <tr>\n",
              "      <th>3</th>\n",
              "      <td>ham</td>\n",
              "      <td>U dun say so early hor... U c already then say...</td>\n",
              "    </tr>\n",
              "    <tr>\n",
              "      <th>4</th>\n",
              "      <td>ham</td>\n",
              "      <td>Nah I don't think he goes to usf, he lives aro...</td>\n",
              "    </tr>\n",
              "  </tbody>\n",
              "</table>\n",
              "</div>\n",
              "      <button class=\"colab-df-convert\" onclick=\"convertToInteractive('df-967af4d1-1a0d-4f95-8480-562189985f1d')\"\n",
              "              title=\"Convert this dataframe to an interactive table.\"\n",
              "              style=\"display:none;\">\n",
              "        \n",
              "  <svg xmlns=\"http://www.w3.org/2000/svg\" height=\"24px\"viewBox=\"0 0 24 24\"\n",
              "       width=\"24px\">\n",
              "    <path d=\"M0 0h24v24H0V0z\" fill=\"none\"/>\n",
              "    <path d=\"M18.56 5.44l.94 2.06.94-2.06 2.06-.94-2.06-.94-.94-2.06-.94 2.06-2.06.94zm-11 1L8.5 8.5l.94-2.06 2.06-.94-2.06-.94L8.5 2.5l-.94 2.06-2.06.94zm10 10l.94 2.06.94-2.06 2.06-.94-2.06-.94-.94-2.06-.94 2.06-2.06.94z\"/><path d=\"M17.41 7.96l-1.37-1.37c-.4-.4-.92-.59-1.43-.59-.52 0-1.04.2-1.43.59L10.3 9.45l-7.72 7.72c-.78.78-.78 2.05 0 2.83L4 21.41c.39.39.9.59 1.41.59.51 0 1.02-.2 1.41-.59l7.78-7.78 2.81-2.81c.8-.78.8-2.07 0-2.86zM5.41 20L4 18.59l7.72-7.72 1.47 1.35L5.41 20z\"/>\n",
              "  </svg>\n",
              "      </button>\n",
              "      \n",
              "  <style>\n",
              "    .colab-df-container {\n",
              "      display:flex;\n",
              "      flex-wrap:wrap;\n",
              "      gap: 12px;\n",
              "    }\n",
              "\n",
              "    .colab-df-convert {\n",
              "      background-color: #E8F0FE;\n",
              "      border: none;\n",
              "      border-radius: 50%;\n",
              "      cursor: pointer;\n",
              "      display: none;\n",
              "      fill: #1967D2;\n",
              "      height: 32px;\n",
              "      padding: 0 0 0 0;\n",
              "      width: 32px;\n",
              "    }\n",
              "\n",
              "    .colab-df-convert:hover {\n",
              "      background-color: #E2EBFA;\n",
              "      box-shadow: 0px 1px 2px rgba(60, 64, 67, 0.3), 0px 1px 3px 1px rgba(60, 64, 67, 0.15);\n",
              "      fill: #174EA6;\n",
              "    }\n",
              "\n",
              "    [theme=dark] .colab-df-convert {\n",
              "      background-color: #3B4455;\n",
              "      fill: #D2E3FC;\n",
              "    }\n",
              "\n",
              "    [theme=dark] .colab-df-convert:hover {\n",
              "      background-color: #434B5C;\n",
              "      box-shadow: 0px 1px 3px 1px rgba(0, 0, 0, 0.15);\n",
              "      filter: drop-shadow(0px 1px 2px rgba(0, 0, 0, 0.3));\n",
              "      fill: #FFFFFF;\n",
              "    }\n",
              "  </style>\n",
              "\n",
              "      <script>\n",
              "        const buttonEl =\n",
              "          document.querySelector('#df-967af4d1-1a0d-4f95-8480-562189985f1d button.colab-df-convert');\n",
              "        buttonEl.style.display =\n",
              "          google.colab.kernel.accessAllowed ? 'block' : 'none';\n",
              "\n",
              "        async function convertToInteractive(key) {\n",
              "          const element = document.querySelector('#df-967af4d1-1a0d-4f95-8480-562189985f1d');\n",
              "          const dataTable =\n",
              "            await google.colab.kernel.invokeFunction('convertToInteractive',\n",
              "                                                     [key], {});\n",
              "          if (!dataTable) return;\n",
              "\n",
              "          const docLinkHtml = 'Like what you see? Visit the ' +\n",
              "            '<a target=\"_blank\" href=https://colab.research.google.com/notebooks/data_table.ipynb>data table notebook</a>'\n",
              "            + ' to learn more about interactive tables.';\n",
              "          element.innerHTML = '';\n",
              "          dataTable['output_type'] = 'display_data';\n",
              "          await google.colab.output.renderOutput(dataTable, element);\n",
              "          const docLink = document.createElement('div');\n",
              "          docLink.innerHTML = docLinkHtml;\n",
              "          element.appendChild(docLink);\n",
              "        }\n",
              "      </script>\n",
              "    </div>\n",
              "  </div>\n",
              "  "
            ]
          },
          "metadata": {},
          "execution_count": 644
        }
      ]
    },
    {
      "cell_type": "markdown",
      "source": [
        "# **Data Pre-Processing**"
      ],
      "metadata": {
        "id": "_2Af9cbY7Vdi"
      }
    },
    {
      "cell_type": "markdown",
      "source": [
        "***Removing duplicates***"
      ],
      "metadata": {
        "id": "C5Lxw1CyjxD1"
      }
    },
    {
      "cell_type": "code",
      "source": [
        "df = df.drop_duplicates(keep='first')"
      ],
      "metadata": {
        "id": "gvIaNBuO7dSw"
      },
      "execution_count": null,
      "outputs": []
    },
    {
      "cell_type": "markdown",
      "source": [
        "***Split into Independent and dependent variables***"
      ],
      "metadata": {
        "id": "4OIHqHyJo87L"
      }
    },
    {
      "cell_type": "code",
      "source": [
        "x = df['EmailText'].values\n",
        "y = df['Label'].values"
      ],
      "metadata": {
        "id": "1UXGQP0UWDoU"
      },
      "execution_count": null,
      "outputs": []
    },
    {
      "cell_type": "markdown",
      "source": [
        "***Text Pre-Processing***"
      ],
      "metadata": {
        "id": "FphS8K9r_Er1"
      }
    },
    {
      "cell_type": "markdown",
      "source": [
        "> lowercase the text \n",
        "\n",
        ">remove special characters\n",
        "\n",
        ">normalize certain words\n",
        "\n",
        ">use stems of words instead of the original form"
      ],
      "metadata": {
        "id": "w-g2vEQc-vFl"
      }
    },
    {
      "cell_type": "code",
      "source": [
        "porter_stemmer=PorterStemmer()\n",
        "def preprocessor(text):\n",
        "    \n",
        "    text=text.lower() \n",
        "    text=re.sub(\"\\\\W\",\" \",text) \n",
        "    text=re.sub(\"\\\\s+(in|the|all|for|and|on)\\\\s+\",\" _connector_ \",text) \n",
        "    words=re.split(\"\\\\s+\",text)\n",
        "    stemmed_words=[porter_stemmer.stem(word=word) for word in words]\n",
        "    return ' '.join(stemmed_words)"
      ],
      "metadata": {
        "id": "5d15_84Njt2V"
      },
      "execution_count": null,
      "outputs": []
    },
    {
      "cell_type": "markdown",
      "source": [
        ">create a space between special characters \n",
        "\n",
        ">split based on whitespace\n"
      ],
      "metadata": {
        "id": "AWNJZbc8_MaF"
      }
    },
    {
      "cell_type": "code",
      "source": [
        "def tokenizer(text):\n",
        "    text=re.sub(\"(\\\\W)\",\" \\\\1 \",text)\n",
        "    return re.split(\"\\\\s+\",text)"
      ],
      "metadata": {
        "id": "0gxWzxY-2xHZ"
      },
      "execution_count": null,
      "outputs": []
    },
    {
      "cell_type": "markdown",
      "source": [
        "**CountVectorizer** is used to transform a corpus of text to a vector of term\n",
        "\n",
        "> min_df = 0.06 ( taking 0.6% of Minimum Document Frequency )\n",
        "\n",
        "> ngram_range=(1,2) ( word level Unigrams and bigrams)"
      ],
      "metadata": {
        "id": "ed20x8g2AUGO"
      }
    },
    {
      "cell_type": "code",
      "source": [
        "vectorizer = CountVectorizer(tokenizer=tokenizer,ngram_range=(1,2),min_df=0.006,preprocessor=preprocessor)\n",
        "x  = vectorizer.fit_transform(x)"
      ],
      "metadata": {
        "id": "MHKy21vlhlA-"
      },
      "execution_count": null,
      "outputs": []
    },
    {
      "cell_type": "markdown",
      "source": [
        "***Checking Imbalanced Data***"
      ],
      "metadata": {
        "id": "tbQKFwP8kVFI"
      }
    },
    {
      "cell_type": "code",
      "source": [
        "sns.countplot(df['Label'])"
      ],
      "metadata": {
        "id": "wk_fE0wxrVPL",
        "colab": {
          "base_uri": "https://localhost:8080/",
          "height": 353
        },
        "outputId": "6d29b239-422a-4a7a-d6ad-eca2c2bdaddb"
      },
      "execution_count": null,
      "outputs": [
        {
          "output_type": "stream",
          "name": "stderr",
          "text": [
            "/usr/local/lib/python3.7/dist-packages/seaborn/_decorators.py:43: FutureWarning: Pass the following variable as a keyword arg: x. From version 0.12, the only valid positional argument will be `data`, and passing other arguments without an explicit keyword will result in an error or misinterpretation.\n",
            "  FutureWarning\n"
          ]
        },
        {
          "output_type": "execute_result",
          "data": {
            "text/plain": [
              "<matplotlib.axes._subplots.AxesSubplot at 0x7f900f9edf50>"
            ]
          },
          "metadata": {},
          "execution_count": 650
        },
        {
          "output_type": "display_data",
          "data": {
            "text/plain": [
              "<Figure size 432x288 with 1 Axes>"
            ],
            "image/png": "[encoded data removed]"
          },
          "metadata": {
            "needs_background": "light"
          }
        }
      ]
    },
    {
      "cell_type": "markdown",
      "source": [
        "target class has an uneven distribution of observations,So we are using random over sampling method to balance the target variable's obervation\n",
        "\n",
        "> **Random Oversampling:** Randomly duplicate examples in the minority class (Spam)\n",
        "\n",
        "\n"
      ],
      "metadata": {
        "id": "g8LUUy5b68Hz"
      }
    },
    {
      "cell_type": "code",
      "source": [
        "from imblearn.under_sampling import NearMiss\n",
        "from collections import Counter\n",
        "from imblearn.over_sampling import RandomOverSampler\n",
        "\n",
        "ros = RandomOverSampler(random_state=42)\n",
        "\n",
        "print('Original dataset shape', Counter(y))\n",
        "\n",
        "# fit predictor and target \n",
        "x,y = ros.fit_resample(x, y)\n",
        "\n",
        "print('Modified dataset shape', Counter(y))"
      ],
      "metadata": {
        "id": "5UeS1g5d-QXx",
        "colab": {
          "base_uri": "https://localhost:8080/"
        },
        "outputId": "f1a50bd5-6d44-4995-b63c-9f560a061cb1"
      },
      "execution_count": null,
      "outputs": [
        {
          "output_type": "stream",
          "name": "stdout",
          "text": [
            "Original dataset shape Counter({'ham': 4516, 'spam': 653})\n",
            "Modified dataset shape Counter({'ham': 4516, 'spam': 4516})\n"
          ]
        }
      ]
    },
    {
      "cell_type": "markdown",
      "source": [
        "***Split into training and testing set***\n",
        "\n",
        "> • Using 80% of data for training with Random State 0.\n",
        "\n"
      ],
      "metadata": {
        "id": "T2osI8D0TsIe"
      }
    },
    {
      "cell_type": "code",
      "source": [
        "x_train , x_test , y_train , y_test   = train_test_split(x, y, test_size =0.2,random_state = 0)\n",
        "\n"
      ],
      "metadata": {
        "id": "xYzLB_Wg-kyB"
      },
      "execution_count": null,
      "outputs": []
    },
    {
      "cell_type": "markdown",
      "source": [
        "***Build SVM model and fit it using training data***"
      ],
      "metadata": {
        "id": "V_HeS82PvJVW"
      }
    },
    {
      "cell_type": "code",
      "source": [
        "model   = SVC(C =1,kernel = \"linear\" )\n",
        "model.fit(x_train,y_train)\n"
      ],
      "metadata": {
        "id": "iBCGjJTzUppO",
        "colab": {
          "base_uri": "https://localhost:8080/"
        },
        "outputId": "c6e237d5-79f3-4951-eeef-a7e2f323c135"
      },
      "execution_count": null,
      "outputs": [
        {
          "output_type": "execute_result",
          "data": {
            "text/plain": [
              "SVC(C=1, kernel='linear')"
            ]
          },
          "metadata": {},
          "execution_count": 653
        }
      ]
    },
    {
      "cell_type": "markdown",
      "source": [
        "***Check accuracy score***"
      ],
      "metadata": {
        "id": "v4YJt_2J8JF2"
      }
    },
    {
      "cell_type": "code",
      "source": [
        "accuracy = metrics.accuracy_score(y_test, model.predict(x_test))\n",
        "accuracy_percentage = 100 * accuracy\n",
        "accuracy_percentage"
      ],
      "metadata": {
        "id": "1a47ImDe8Glf",
        "colab": {
          "base_uri": "https://localhost:8080/"
        },
        "outputId": "485ecd0c-bd5c-42e1-a6c6-1b9bab6064eb"
      },
      "execution_count": null,
      "outputs": [
        {
          "output_type": "execute_result",
          "data": {
            "text/plain": [
              "98.83785279468734"
            ]
          },
          "metadata": {},
          "execution_count": 654
        }
      ]
    },
    {
      "cell_type": "markdown",
      "source": [
        "***Classification Report***"
      ],
      "metadata": {
        "id": "wuiGFohfvSTF"
      }
    },
    {
      "cell_type": "code",
      "source": [
        "print(classification_report(y_test,model.predict(x_test)))"
      ],
      "metadata": {
        "id": "sP4LvSCJUR2s",
        "colab": {
          "base_uri": "https://localhost:8080/"
        },
        "outputId": "1be5ad05-3385-4a6e-c8ed-f27f5e4d2550"
      },
      "execution_count": null,
      "outputs": [
        {
          "output_type": "stream",
          "name": "stdout",
          "text": [
            "              precision    recall  f1-score   support\n",
            "\n",
            "         ham       1.00      0.98      0.99       895\n",
            "        spam       0.98      1.00      0.99       912\n",
            "\n",
            "    accuracy                           0.99      1807\n",
            "   macro avg       0.99      0.99      0.99      1807\n",
            "weighted avg       0.99      0.99      0.99      1807\n",
            "\n"
          ]
        }
      ]
    },
    {
      "cell_type": "markdown",
      "source": [
        "***Confusion matrix***"
      ],
      "metadata": {
        "id": "u0ZdRVllvWUv"
      }
    },
    {
      "cell_type": "code",
      "source": [
        "sns.heatmap(confusion_matrix(y_test,model.predict(x_test)),annot = True , fmt =\"g\")\n",
        "plt.xlabel(\"Predicted\")\n",
        "plt.show(\"Actual\")\n",
        "plt.show()"
      ],
      "metadata": {
        "id": "XuQhU31mmRGE",
        "colab": {
          "base_uri": "https://localhost:8080/",
          "height": 279
        },
        "outputId": "74811b49-5976-4154-e0f6-18144523d16d"
      },
      "execution_count": null,
      "outputs": [
        {
          "output_type": "display_data",
          "data": {
            "text/plain": [
              "<Figure size 432x288 with 2 Axes>"
            ],
            "image/png": "[encoded data removed]"
          },
          "metadata": {
            "needs_background": "light"
          }
        }
      ]
    },
    {
      "cell_type": "markdown",
      "source": [
        "# **Hyperparameter Optimization using GridSearch CV**"
      ],
      "metadata": {
        "id": "4RYf0JGatDHp"
      }
    },
    {
      "cell_type": "code",
      "source": [
        "params  = {\"C\":[0.2,0.5] , \"kernel\" : ['linear', 'sigmoid'] }\n",
        "\n",
        "cval = KFold(n_splits = 2)\n",
        "model =  SVC();\n",
        "TunedModel = GridSearchCV(model,params,cv= cval)\n",
        "\n",
        "\n",
        "TunedModel.fit(x_train,y_train)\n",
        "\n"
      ],
      "metadata": {
        "id": "8QS9PuaXBTxJ",
        "colab": {
          "base_uri": "https://localhost:8080/"
        },
        "outputId": "e14167f0-169c-4dc1-aed0-e1c43338b772"
      },
      "execution_count": null,
      "outputs": [
        {
          "output_type": "execute_result",
          "data": {
            "text/plain": [
              "GridSearchCV(cv=KFold(n_splits=2, random_state=None, shuffle=False),\n",
              "             estimator=SVC(),\n",
              "             param_grid={'C': [0.2, 0.5], 'kernel': ['linear', 'sigmoid']})"
            ]
          },
          "metadata": {},
          "execution_count": 657
        }
      ]
    },
    {
      "cell_type": "code",
      "source": [
        "print(classification_report(y_test,TunedModel.predict(x_test)))"
      ],
      "metadata": {
        "id": "8Ig6pZ7Lp6Rr",
        "colab": {
          "base_uri": "https://localhost:8080/"
        },
        "outputId": "77557812-875b-4ca4-a24b-5e67d8169128"
      },
      "execution_count": null,
      "outputs": [
        {
          "output_type": "stream",
          "name": "stdout",
          "text": [
            "              precision    recall  f1-score   support\n",
            "\n",
            "         ham       1.00      0.98      0.99       895\n",
            "        spam       0.98      1.00      0.99       912\n",
            "\n",
            "    accuracy                           0.99      1807\n",
            "   macro avg       0.99      0.99      0.99      1807\n",
            "weighted avg       0.99      0.99      0.99      1807\n",
            "\n"
          ]
        }
      ]
    },
    {
      "cell_type": "markdown",
      "source": [
        "🔴**accuracy of tuned model**"
      ],
      "metadata": {
        "id": "fOYXxhfF_ZgE"
      }
    },
    {
      "cell_type": "code",
      "source": [
        "accuracy = metrics.accuracy_score(y_test, TunedModel.predict(x_test))\n",
        "accuracy_percentage = 100 * accuracy\n",
        "accuracy_percentage"
      ],
      "metadata": {
        "id": "urWqDCDu-Koq",
        "colab": {
          "base_uri": "https://localhost:8080/"
        },
        "outputId": "abd45ca2-c0c1-40fc-e73c-b4f37ff25af0"
      },
      "execution_count": null,
      "outputs": [
        {
          "output_type": "execute_result",
          "data": {
            "text/plain": [
              "99.0038738240177"
            ]
          },
          "metadata": {},
          "execution_count": 659
        }
      ]
    },
    {
      "cell_type": "code",
      "source": [
        "sns.heatmap(confusion_matrix(y_test,TunedModel.predict(x_test)),annot = True , fmt =\"g\")\n",
        "plt.xlabel(\"Predicted\")\n",
        "plt.show(\"Actual\")\n",
        "plt.show()"
      ],
      "metadata": {
        "id": "Y4pHBICC9pK7",
        "colab": {
          "base_uri": "https://localhost:8080/",
          "height": 279
        },
        "outputId": "c9aa34cb-f240-47b9-899d-0dd2aa81af84"
      },
      "execution_count": null,
      "outputs": [
        {
          "output_type": "display_data",
          "data": {
            "text/plain": [
              "<Figure size 432x288 with 2 Axes>"
            ],
            "image/png": "[encoded data removed]"
          },
          "metadata": {
            "needs_background": "light"
          }
        }
      ]
    },
    {
      "cell_type": "markdown",
      "source": [
        "#**Using the trained model, predict whether the following five emails are spam or ham** 📧"
      ],
      "metadata": {
        "id": "8OodqP7kt04y"
      }
    },
    {
      "cell_type": "code",
      "source": [
        "mails = [\"Hey, you have won a car !!!!. Conrgratzz\"\n",
        "              ,\"Dear applicant, Your CV has been recieved. Best regards\"\n",
        "              ,\"You have received $1000000 to your account\"\n",
        "              ,\"Join with our whatsapp group\"\n",
        "              ,\"Kindly check the previous email. Kind Regard\"]\n",
        "for mail in mails:\n",
        "  is_spam = TunedModel.predict(vectorizer.transform([mail]).toarray())\n",
        "  print(mail + \" : \"+ is_spam)"
      ],
      "metadata": {
        "id": "czGLsNRxs5Ei",
        "colab": {
          "base_uri": "https://localhost:8080/"
        },
        "outputId": "f209effd-4c66-40b3-af07-01440480cabc"
      },
      "execution_count": null,
      "outputs": [
        {
          "output_type": "stream",
          "name": "stdout",
          "text": [
            "['Hey, you have won a car !!!!. Conrgratzz : spam']\n",
            "['Dear applicant, Your CV has been recieved. Best regards : ham']\n",
            "['You have received $1000000 to your account : spam']\n",
            "['Join with our whatsapp group : ham']\n",
            "['Kindly check the previous email. Kind Regard : ham']\n"
          ]
        }
      ]
    },
    {
      "cell_type": "markdown",
      "source": [
        "\n",
        "\n",
        "> IT20388270\n",
        "\n",
        "---\n",
        "\n",
        "\n",
        "\n",
        ">Sanjay.J\n",
        "\n"
      ],
      "metadata": {
        "id": "CJ2xZNip9z2M"
      }
    }
  ]
}